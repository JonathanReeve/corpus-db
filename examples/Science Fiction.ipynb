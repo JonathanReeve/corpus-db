{
 "cells": [
  {
   "cell_type": "markdown",
   "metadata": {},
   "source": [
    "# Astronomical Objects in Science Fiction Literature"
   ]
  },
  {
   "cell_type": "markdown",
   "metadata": {},
   "source": [
    "Word frequencies can potentially reveal a lot about traditional classifications of genre.  Informal associations of style or objects with a given genre can be supported or challenged with quantitative data.  Though a variety of other methods, literary and digital, can be employed to this end, word frequency is both relatively simple to deploy and straightforward in its conclusions, that is, how many times something is mentioned in a particular text.\n",
    "\n",
    "In this analysis, I choose to look at texts from Project Gutenberg in the genre of Science Fiction, as categorized by the Library of Congress.  I select SciFi for two reasons. First, I believe it especially distinctive as a genre for its range of locations, topics, and plot (e.g. characters becoming invisible, extraterrestial voyages) that are less likely to be found in other literature.  Second, SciFi is the third largest category under a Library of Congress Subject Heading (LCSH), and arguably the largest genre category, the first two being \"Fiction\" and \"Short Stories.\"  \n",
    "\n",
    "Specifically, I look at frequencies for words signifying astronomical objects.  I hypothesize that the stories taking place in outer space are conventionally associated with science fiction and vice versa.  I anticipate that words signifying astronomical objects might serve as good proxies for a space setting.  While these objects might be mentioned in other kinds of works, I expect them to appear and constitute a greater focus within the realm of SciFi.   With that in mind, I ask the question, do words like \"planet,\" \"star,\" and \"moon\" distinguish SciFi literature from other genres?"
   ]
  },
  {
   "cell_type": "markdown",
   "metadata": {},
   "source": [
    "I begin by importing a variety of libraries I need to access information from the API, parse the texts I'm examining, and visualize data."
   ]
  },
  {
   "cell_type": "code",
   "execution_count": 40,
   "metadata": {},
   "outputs": [],
   "source": [
    "import json\n",
    "import requests\n",
    "import re\n",
    "import string\n",
    "import matplotlib.pyplot as pp\n",
    "import numpy as np\n",
    "from collections import Counter\n",
    "from nltk import word_tokenize\n",
    "from ast import literal_eval"
   ]
  },
  {
   "cell_type": "markdown",
   "metadata": {},
   "source": [
    "The following code creates a list of Project Gutenberg ids for each text contained within the genre of SciFi."
   ]
  },
  {
   "cell_type": "code",
   "execution_count": 41,
   "metadata": {},
   "outputs": [],
   "source": [
    "url = \"http://corpus-db.org/api/subject/Science%20fiction\""
   ]
  },
  {
   "cell_type": "code",
   "execution_count": 42,
   "metadata": {},
   "outputs": [],
   "source": [
    "resp = requests.get(url=url)\n",
    "data = json.loads(resp.text)"
   ]
  },
  {
   "cell_type": "code",
   "execution_count": 43,
   "metadata": {},
   "outputs": [],
   "source": [
    "ids = [book['id'] for book in data]"
   ]
  },
  {
   "cell_type": "markdown",
   "metadata": {},
   "source": [
    "Here I define a class and a method I use in concert to create objects for each text I study.  These objects allow me to access the full text and metadata of a work contained in Project Gutenberg."
   ]
  },
  {
   "cell_type": "code",
   "execution_count": 44,
   "metadata": {},
   "outputs": [],
   "source": [
    "class book:\n",
    "    meta = []\n",
    "    text = []\n",
    "    def __init__ (self,meta,text):\n",
    "        self.meta=meta\n",
    "        self.text=text"
   ]
  },
  {
   "cell_type": "code",
   "execution_count": null,
   "metadata": {},
   "outputs": [],
   "source": [
    "def getTextAndMeta(idlist,collection):\n",
    "    for x in idlist:\n",
    "        metaResponse = requests.get(\"http://corpus-db.org/api/id/\"+x)\n",
    "        textResponse = requests.get(\"http://corpus-db.org/api/id/\"+x+\"/fulltext\")\n",
    "        meta = json.loads(metaResponse.text)\n",
    "        text = json.loads(textResponse.text)\n",
    "        onebook = book(meta,text)\n",
    "        collection.append(onebook)"
   ]
  },
  {
   "cell_type": "code",
   "execution_count": 46,
   "metadata": {},
   "outputs": [],
   "source": [
    "scificollection = []\n",
    "getTextAndMeta(ids,scificollection)"
   ]
  },
  {
   "cell_type": "markdown",
   "metadata": {},
   "source": [
    "Now I remove all non english-language texts from the collection I have created, as I won't be attempting to translate the keywords I am looking for."
   ]
  },
  {
   "cell_type": "code",
   "execution_count": 47,
   "metadata": {},
   "outputs": [],
   "source": [
    "for x in scificollection:\n",
    "    if (x.meta['languages']!= '[\\'en\\']'):\n",
    "        scificollection.remove(x)"
   ]
  },
  {
   "cell_type": "markdown",
   "metadata": {},
   "source": [
    "Then I check how many english language science-fiction books I have and store that number in a\n",
    "variable to use later."
   ]
  },
  {
   "cell_type": "code",
   "execution_count": 48,
   "metadata": {},
   "outputs": [
    {
     "data": {
      "text/plain": [
       "1307"
      ]
     },
     "execution_count": 48,
     "metadata": {},
     "output_type": "execute_result"
    }
   ],
   "source": [
    "sizeofcollection = len(scificollection)\n",
    "len(scificollection)"
   ]
  },
  {
   "cell_type": "markdown",
   "metadata": {},
   "source": [
    "I will use two metrics for distinguishing words: what percentage of books in a genre have a particular word at least once and, of those books, what is the average frequency of a particular word across all the texts?  I recognize that not all science fiction is comprised of stories about outer space, and that, likewise, a single or even a couple mentions of a particular keyword does not a space-faring adventure make.  Still, I believe that the results of both calculations, will give a fairly accurate picture of the SciFi genre, especially when compared with other genres.  I will first analyze the frequencies of the word \"planet.\""
   ]
  },
  {
   "cell_type": "markdown",
   "metadata": {},
   "source": [
    "In the method below I render each book in collection as a \"bag of words,\" a list of lowercase tokens, then compute\n",
    "the frequency of a keyword as a percentage of the total list.  The method returns the ratio of books\n",
    "in a genre containing at least one instance of the given keyword."
   ]
  },
  {
   "cell_type": "code",
   "execution_count": 50,
   "metadata": {},
   "outputs": [],
   "source": [
    "def createFrequencyList(frequencies,collection,keyword):\n",
    "    for x in collection:\n",
    "        bagofwords = word_tokenize((' '.join(str(x.text).lower().split('\\\\n'))).translate(str.maketrans('','',string.punctuation)))\n",
    "        if (len(bagofwords)!=0 and bagofwords.count(keyword) != 0):\n",
    "            frequency = bagofwords.count(keyword)/len(bagofwords)\n",
    "            frequencies.append(frequency)\n",
    "    return len(frequencies)/len(collection)"
   ]
  },
  {
   "cell_type": "code",
   "execution_count": 51,
   "metadata": {},
   "outputs": [],
   "source": [
    "scififrequencies = []\n",
    "scifiratio = createFrequencyList(scififrequencies,scificollection,\"planet\")"
   ]
  },
  {
   "cell_type": "markdown",
   "metadata": {},
   "source": [
    "Now I do the same for two other genres with significant representation on Project Gutenberg: \"Detective and Mystery Stories\" and \"Sea Stories.\""
   ]
  },
  {
   "cell_type": "code",
   "execution_count": 52,
   "metadata": {},
   "outputs": [],
   "source": [
    "url = \"http://corpus-db.org/api/subject/Detective%20and%20mystery%20stories\"\n",
    "resp = requests.get(url=url)\n",
    "data = json.loads(resp.text)\n",
    "ids = [book['id'] for book in data]\n",
    "detectivecollection = []\n",
    "getTextAndMeta(ids,detectivecollection)\n",
    "for x in detectivecollection:\n",
    "    if (x.meta['languages']!= '[\\'en\\']'):\n",
    "        detectivecollection.remove(x)\n",
    "detectivefrequencies = []\n",
    "detectiveratio = createFrequencyList(detectivefrequencies,detectivecollection,\"planet\")\n",
    "\n",
    "url = \"http://corpus-db.org/api/subject/Sea%20stories\"\n",
    "resp = requests.get(url=url)\n",
    "data = json.loads(resp.text)\n",
    "ids = [book['id'] for book in data]\n",
    "seacollection = []\n",
    "getTextAndMeta(ids,seacollection)\n",
    "for x in seacollection:\n",
    "    if (x.meta['languages']!= '[\\'en\\']'):\n",
    "        seacollection.remove(x)\n",
    "seafrequencies = []\n",
    "searatio = createFrequencyList(seafrequencies,seacollection,\"planet\")"
   ]
  },
  {
   "cell_type": "markdown",
   "metadata": {},
   "source": [
    "Here are the ratios across all three genres:"
   ]
  },
  {
   "cell_type": "code",
   "execution_count": 53,
   "metadata": {},
   "outputs": [
    {
     "data": {
      "image/png": "[encoded data removed]",
      "text/plain": [
       "<Figure size 432x288 with 1 Axes>"
      ]
     },
     "metadata": {
      "needs_background": "light"
     },
     "output_type": "display_data"
    }
   ],
   "source": [
    "genres = ('Science Fiction', 'Detective Stories', 'Sea Stories')\n",
    "labels = np.arange(len(genres))\n",
    "ratios = [scifiratio,detectiveratio,searatio]\n",
    "\n",
    "pp.bar(labels, ratios, align='center', alpha=0.5)\n",
    "pp.xticks(labels, genres)\n",
    "\n",
    "pp.show()"
   ]
  },
  {
   "cell_type": "markdown",
   "metadata": {},
   "source": [
    "And the average frequencies across the genres:"
   ]
  },
  {
   "cell_type": "code",
   "execution_count": 54,
   "metadata": {},
   "outputs": [
    {
     "data": {
      "text/plain": [
       "[Text(0, 0, 'Science Fiction'),\n",
       " Text(0, 0, 'Detective Stories'),\n",
       " Text(0, 0, 'Sea Stories')]"
      ]
     },
     "execution_count": 54,
     "metadata": {},
     "output_type": "execute_result"
    },
    {
     "data": {
      "image/png": "[encoded data removed]",
      "text/plain": [
       "<Figure size 432x288 with 1 Axes>"
      ]
     },
     "metadata": {
      "needs_background": "light"
     },
     "output_type": "display_data"
    }
   ],
   "source": [
    "ax = pp.axes()\n",
    "listoffrequencies = [scififrequencies,detectivefrequencies, seafrequencies]\n",
    "bp = ax.boxplot(listoffrequencies)\n",
    "ax.set_xticklabels(['Science Fiction', 'Detective Stories', 'Sea Stories'])"
   ]
  },
  {
   "cell_type": "markdown",
   "metadata": {},
   "source": [
    "We can see that not only does the LCSH for Science Fiction contain many more books percentage-wise that make mention of a \"planet\" than the other two categories, but the the books that make mention of planet also do so at a significantly higher rate.  For this word, at least, my initial hypothesis appears to hold."
   ]
  },
  {
   "cell_type": "markdown",
   "metadata": {},
   "source": [
    "<h3> Plots with the words \"star\" and \"moon\":"
   ]
  },
  {
   "cell_type": "markdown",
   "metadata": {},
   "source": [
    "Now I examine the other two keywords using the same methods as above."
   ]
  },
  {
   "cell_type": "code",
   "execution_count": 56,
   "metadata": {},
   "outputs": [
    {
     "data": {
      "image/png": "[encoded data removed]",
      "text/plain": [
       "<Figure size 432x288 with 1 Axes>"
      ]
     },
     "metadata": {
      "needs_background": "light"
     },
     "output_type": "display_data"
    }
   ],
   "source": [
    "scifiratio = createFrequencyList(scififrequencies,scificollection,\"star\")\n",
    "detectiveratio = createFrequencyList(detectivefrequencies,detectivecollection,\"star\")\n",
    "searatio = createFrequencyList(seafrequencies,seacollection,\"star\")\n",
    "genres = ('Science Fiction', 'Detective Stories', 'Sea Stories')\n",
    "labels = np.arange(len(genres))\n",
    "ratios = [scifiratio,detectiveratio,searatio]\n",
    "pp.bar(labels, ratios, align='center', alpha=0.5)\n",
    "pp.xticks(labels, genres)\n",
    "pp.show()"
   ]
  },
  {
   "cell_type": "code",
   "execution_count": 57,
   "metadata": {},
   "outputs": [
    {
     "data": {
      "text/plain": [
       "[Text(0, 0, 'Science Fiction'),\n",
       " Text(0, 0, 'Detective Stories'),\n",
       " Text(0, 0, 'Sea Stories')]"
      ]
     },
     "execution_count": 57,
     "metadata": {},
     "output_type": "execute_result"
    },
    {
     "data": {
      "image/png": "[encoded data removed]",
      "text/plain": [
       "<Figure size 432x288 with 1 Axes>"
      ]
     },
     "metadata": {
      "needs_background": "light"
     },
     "output_type": "display_data"
    }
   ],
   "source": [
    "ax = pp.axes()\n",
    "listoffrequencies = [scififrequencies,detectivefrequencies, seafrequencies]\n",
    "bp = ax.boxplot(listoffrequencies)\n",
    "ax.set_xticklabels(['Science Fiction', 'Detective Stories', 'Sea Stories'])"
   ]
  },
  {
   "cell_type": "markdown",
   "metadata": {},
   "source": [
    "A higher percentage of books within science fiction make mention of the word \"star,\" and the frequencies are higher, but neither is nearly as significant as \"planet.\""
   ]
  },
  {
   "cell_type": "code",
   "execution_count": 58,
   "metadata": {},
   "outputs": [
    {
     "data": {
      "image/png": "[encoded data removed]",
      "text/plain": [
       "<Figure size 432x288 with 1 Axes>"
      ]
     },
     "metadata": {
      "needs_background": "light"
     },
     "output_type": "display_data"
    }
   ],
   "source": [
    "scifiratio = createFrequencyList(scififrequencies,scificollection,\"moon\")\n",
    "detectiveratio = createFrequencyList(detectivefrequencies,detectivecollection,\"moon\")\n",
    "searatio = createFrequencyList(seafrequencies,seacollection,\"moon\")\n",
    "genres = ('Science Fiction', 'Detective Stories', 'Sea Stories')\n",
    "labels = np.arange(len(genres))\n",
    "ratios = [scifiratio,detectiveratio,searatio]\n",
    "pp.bar(labels, ratios, align='center', alpha=0.5)\n",
    "pp.xticks(labels, genres)\n",
    "pp.show()"
   ]
  },
  {
   "cell_type": "code",
   "execution_count": null,
   "metadata": {},
   "outputs": [],
   "source": [
    "ax = pp.axes()\n",
    "listoffrequencies = [scififrequencies,detectivefrequencies, seafrequencies]\n",
    "bp = ax.boxplot(listoffrequencies)\n",
    "ax.set_xticklabels(['Science Fiction', 'Detective Stories', 'Sea Stories'])"
   ]
  },
  {
   "cell_type": "markdown",
   "metadata": {},
   "source": [
    "\"Moon\" seems to not be so much of a distinguishing word at all."
   ]
  },
  {
   "cell_type": "markdown",
   "metadata": {},
   "source": [
    "<h3> Conclusions"
   ]
  },
  {
   "cell_type": "markdown",
   "metadata": {},
   "source": [
    "Though my hypothesis was bolstered by the data for \"planet,\" it was less clearly supported by plots of the latter two words.  Even though all three words represent astronomical objects, they do not necessarily cohere as a distinguishing category for SciFi.  Some questions for future investigation:\n",
    "\n",
    "+ Would I get a different result if I went into texts and tried to disambiguate a word like \"star\"? \n",
    "\n",
    "+ What explains the prominence of the word \"moon\" in a genre like Sea Stories?  Does it serve a symbolic role?  Is it used in the context of navigation?\n",
    "\n",
    "+ Are there other words that might be better grouped with a \"planet\"?  Perhaps words that are more scientific than \"star\" or \"moon\" but appropriate to the era in which this collection of SciFi literature was published."
   ]
  }
 ],
 "metadata": {
  "kernelspec": {
   "display_name": "Python 3",
   "language": "python",
   "name": "python3"
  },
  "language_info": {
   "codemirror_mode": {
    "name": "ipython",
    "version": 3
   },
   "file_extension": ".py",
   "mimetype": "text/x-python",
   "name": "python",
   "nbconvert_exporter": "python",
   "pygments_lexer": "ipython3",
   "version": "3.7.2"
  }
 },
 "nbformat": 4,
 "nbformat_minor": 2
}
