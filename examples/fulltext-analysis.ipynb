{
 "cells": [
  {
   "cell_type": "code",
   "execution_count": 23,
   "metadata": {},
   "outputs": [],
   "source": [
    "import json\n",
    "import requests\n",
    "from sklearn.decomposition import PCA, TruncatedSVD\n",
    "from sklearn.feature_extraction.text import TfidfVectorizer, CountVectorizer\n",
    "from sklearn.decomposition import NMF, LatentDirichletAllocation\n",
    "import pandas as pd\n",
    "import matplotlib.pyplot as plt\n",
    "import textacy\n",
    "from random import sample\n",
    "%matplotlib inline\n",
    "\n",
    "# Display plots in this notebook, instead of externally. \n",
    "from pylab import rcParams\n",
    "rcParams['figure.figsize'] = 10, 6"
   ]
  },
  {
   "cell_type": "markdown",
   "metadata": {},
   "source": [
    "# Get Full-Text Corpora Using Corpus-DB"
   ]
  },
  {
   "cell_type": "markdown",
   "metadata": {},
   "source": [
    "First, get all the Jane Austen and George Eliot novels from Project Gutenberg."
   ]
  },
  {
   "cell_type": "code",
   "execution_count": 2,
   "metadata": {},
   "outputs": [],
   "source": [
    "# Create queries for corpus-DB\n",
    "#baseURL = \"http://localhost:8000\" # For local testing\n",
    "baseURL = \"http://corpus-db.org\" "
   ]
  },
  {
   "cell_type": "code",
   "execution_count": 3,
   "metadata": {},
   "outputs": [],
   "source": [
    "def getTextAndMeta(author): \n",
    "    metaResponse = requests.get(baseURL+\"/api/author/\"+author)\n",
    "    textResponse = requests.get(baseURL+\"/api/author/\"+author+\"/fulltext\")\n",
    "    meta = json.loads(metaResponse.text)\n",
    "    texts = json.loads(textResponse.text)\n",
    "    return meta, texts"
   ]
  },
  {
   "cell_type": "code",
   "execution_count": 6,
   "metadata": {},
   "outputs": [],
   "source": [
    "austenMeta, austenTexts = getTextAndMeta(\"Austen, Jane\")\n",
    "eliotMeta, eliotTexts = getTextAndMeta(\"Eliot, George\")"
   ]
  },
  {
   "cell_type": "code",
   "execution_count": 7,
   "metadata": {},
   "outputs": [
    {
     "data": {
      "text/plain": [
       "(20, 20, 19, 19)"
      ]
     },
     "execution_count": 7,
     "metadata": {},
     "output_type": "execute_result"
    }
   ],
   "source": [
    "# Sanity check: how many novels did we get? \n",
    "len(austenMeta), len(austenTexts), len(eliotMeta), len(eliotTexts)"
   ]
  },
  {
   "cell_type": "code",
   "execution_count": 8,
   "metadata": {},
   "outputs": [
    {
     "data": {
      "text/plain": [
       "[('105.0', 'Persuasion'),\n",
       " ('121.0', 'Northanger Abbey'),\n",
       " ('141.0', 'Mansfield Park'),\n",
       " ('158.0', 'Emma'),\n",
       " ('161.0', 'Sense and Sensibility'),\n",
       " ('946.0', 'Lady Susan'),\n",
       " ('1212.0', 'Love and Freindship [sic]'),\n",
       " ('1342.0', 'Pride and Prejudice'),\n",
       " ('21839.0', 'Sense and Sensibility'),\n",
       " ('25946.0', 'Gevoel en verstand'),\n",
       " ('31100.0',\n",
       "  'The Complete Project Gutenberg Works of Jane Austen: A Linked Index of all PG Editions of Jane Austen'),\n",
       " ('33388.0', \"Raison et sensibilité, ou les deux manières d'aimer (Tome 1)\"),\n",
       " ('35151.0', \"Raison et sensibilité, ou les deux manières d'aimer (Tome 2)\"),\n",
       " ('35163.0', \"Raison et sensibilité, ou les deux manières d'aimer (Tome 3)\"),\n",
       " ('36777.0', 'Persuasion'),\n",
       " ('37431.0', \"Pride and Prejudice, a play founded on Jane Austen's novel\"),\n",
       " ('37634.0', \"Raison et sensibilité, ou les deux manières d'aimer (Tome 4)\"),\n",
       " ('42078.0',\n",
       "  'The Letters of Jane Austen: Selected from the compilation of her great nephew, Edward, Lord Bradbourne'),\n",
       " ('42671.0', 'Pride and Prejudice'),\n",
       " ('45186.0', 'Ylpeys ja ennakkoluulo')]"
      ]
     },
     "execution_count": 8,
     "metadata": {},
     "output_type": "execute_result"
    }
   ],
   "source": [
    "# OK, that seems like a few too many. Let's pare it down a bit. \n",
    "# First, get the titles. \n",
    "[(book['id'], book['title']) for book in austenMeta]"
   ]
  },
  {
   "cell_type": "code",
   "execution_count": 9,
   "metadata": {},
   "outputs": [],
   "source": [
    "# Why don't we just get the ones that look like they're in English? \n",
    "# We can keep the juvenalia. \n",
    "myAustenCollection = [105, 121, 141, 158, 161, 946, 1212, 1342]"
   ]
  },
  {
   "cell_type": "code",
   "execution_count": 10,
   "metadata": {},
   "outputs": [],
   "source": [
    "austenMetaSubset = [book for book in austenMeta if int(float(book['id'])) in myAustenCollection]\n",
    "austenTextSubset = [book for book in austenTexts if int(book['id']) in myAustenCollection]"
   ]
  },
  {
   "cell_type": "code",
   "execution_count": 11,
   "metadata": {},
   "outputs": [
    {
     "data": {
      "text/plain": [
       "(8, 8)"
      ]
     },
     "execution_count": 11,
     "metadata": {},
     "output_type": "execute_result"
    }
   ],
   "source": [
    "# Sanity check: how many do we have of each, now? \n",
    "len(austenMetaSubset), len(austenTextSubset)"
   ]
  },
  {
   "cell_type": "code",
   "execution_count": 12,
   "metadata": {},
   "outputs": [
    {
     "data": {
      "text/plain": [
       "[('145.0', 'Middlemarch'),\n",
       " ('507.0', 'Adam Bede'),\n",
       " ('550.0', 'Silas Marner'),\n",
       " ('2165.0', 'The Lifted Veil'),\n",
       " ('2171.0', 'Brother Jacob'),\n",
       " ('6688.0', 'The Mill on the Floss'),\n",
       " ('7469.0', 'Daniel Deronda'),\n",
       " ('10762.0', 'Impressions of Theophrastus Such'),\n",
       " ('17780.0', 'Scenes of Clerical Life'),\n",
       " ('20742.0', 'O May I Join the Choir Invisible! and Other Favorite Poems'),\n",
       " ('20813.0', 'How Lisa Loved the King'),\n",
       " ('24020.0', 'Romola'),\n",
       " ('24823.0', 'Silas Marner'),\n",
       " ('28289.0', 'The Essays of \"George Eliot\": Complete'),\n",
       " ('30273.0', 'Tom and Maggie Tulliver'),\n",
       " ('40882.0', 'Felix Holt, the Radical'),\n",
       " ('43043.0',\n",
       "  \"George Eliot's Life, as Related in Her Letters and Journals. Vol. 1 (of 3)\"),\n",
       " ('43044.0',\n",
       "  \"George Eliot's Life, as Related in Her Letters and Journals. Vol. 2 (of 3)\"),\n",
       " ('43045.0',\n",
       "  \"George Eliot's Life, as Related in Her Letters and Journals. Vol. 3 (of 3)\")]"
      ]
     },
     "execution_count": 12,
     "metadata": {},
     "output_type": "execute_result"
    }
   ],
   "source": [
    "# Let's do the same for George Eliot. \n",
    "[(book['id'], book['title']) for book in eliotMeta]"
   ]
  },
  {
   "cell_type": "code",
   "execution_count": 13,
   "metadata": {},
   "outputs": [],
   "source": [
    "# Let's just grab the first 8, to make things even. \n",
    "myEliotCollection = [145, 507, 550, 2165, 2171, 6688, 7469, 10762]\n",
    "eliotMetaSubset = [book for book in eliotMeta if int(float(book['id'])) in myEliotCollection]\n",
    "eliotTextSubset = [book for book in eliotTexts if int(book['id']) in myEliotCollection]"
   ]
  },
  {
   "cell_type": "code",
   "execution_count": 14,
   "metadata": {},
   "outputs": [
    {
     "data": {
      "text/plain": [
       "(8, 8)"
      ]
     },
     "execution_count": 14,
     "metadata": {},
     "output_type": "execute_result"
    }
   ],
   "source": [
    "# Sanity check: how many do we have? \n",
    "len(eliotMetaSubset), len(eliotTextSubset)"
   ]
  },
  {
   "cell_type": "markdown",
   "metadata": {},
   "source": [
    "# Comparative Stylometry of Austen and Eliot Novels"
   ]
  },
  {
   "cell_type": "code",
   "execution_count": 15,
   "metadata": {},
   "outputs": [],
   "source": [
    "# Instantiate the models we need. \n",
    "tfidf = TfidfVectorizer(use_idf=False, max_features=800)\n",
    "lsa = TruncatedSVD()"
   ]
  },
  {
   "cell_type": "code",
   "execution_count": 16,
   "metadata": {},
   "outputs": [],
   "source": [
    "eliotTextsRaw = [t['text'] for t in eliotTextSubset]\n",
    "austenTextsRaw = [t['text'] for t in austenTextSubset]"
   ]
  },
  {
   "cell_type": "code",
   "execution_count": 17,
   "metadata": {},
   "outputs": [],
   "source": [
    "allTexts = eliotTextsRaw + austenTextsRaw\n",
    "allTitles = [t['title'] for t in eliotMetaSubset] + [t['title'] for t in austenMetaSubset]"
   ]
  },
  {
   "cell_type": "code",
   "execution_count": 18,
   "metadata": {},
   "outputs": [],
   "source": [
    "docTermMatrix = tfidf.fit_transform(allTexts)"
   ]
  },
  {
   "cell_type": "code",
   "execution_count": 19,
   "metadata": {},
   "outputs": [],
   "source": [
    "lsaOut = lsa.fit_transform(docTermMatrix)"
   ]
  },
  {
   "cell_type": "code",
   "execution_count": 24,
   "metadata": {},
   "outputs": [
    {
     "data": {
      "image/png": "[encoded data removed]",
      "text/plain": [
       "<matplotlib.figure.Figure at 0x7f808ffa9f60>"
      ]
     },
     "metadata": {},
     "output_type": "display_data"
    }
   ],
   "source": [
    "xs, ys = lsaOut[:,0], lsaOut[:,1]\n",
    "for i in range(len(xs)): \n",
    "    plt.scatter(xs[i], ys[i], alpha=0.5)\n",
    "    plt.annotate(allTitles[i], (xs[i], ys[i]))"
   ]
  },
  {
   "cell_type": "code",
   "execution_count": 20,
   "metadata": {},
   "outputs": [],
   "source": [
    "# Is Love and Freindship really the most Eliot-like of Austen's novels? "
   ]
  }
 ],
 "metadata": {
  "kernelspec": {
   "display_name": "Python 3",
   "language": "python",
   "name": "python3"
  },
  "language_info": {
   "codemirror_mode": {
    "name": "ipython",
    "version": 3
   },
   "file_extension": ".py",
   "mimetype": "text/x-python",
   "name": "python",
   "nbconvert_exporter": "python",
   "pygments_lexer": "ipython3",
   "version": "3.6.6"
  }
 },
 "nbformat": 4,
 "nbformat_minor": 2
}
