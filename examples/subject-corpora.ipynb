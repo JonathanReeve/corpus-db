{
 "cells": [
  {
   "cell_type": "code",
   "execution_count": 112,
   "metadata": {},
   "outputs": [],
   "source": [
    "import requests\n",
    "import json\n",
    "import random\n",
    "import pandas as pd\n",
    "from sklearn.feature_extraction.text import TfidfVectorizer"
   ]
  },
  {
   "cell_type": "code",
   "execution_count": 3,
   "metadata": {},
   "outputs": [],
   "source": [
    "# Create queries for corpus-DB\n",
    "baseURL = \"http://localhost:8000\" # For local testing\n",
    "#baseURL = \"http://corpus-db.org\" "
   ]
  },
  {
   "cell_type": "markdown",
   "metadata": {},
   "source": [
    "First, let's get a list of all available Library of Congress subject headings (i.e. sub-corpora). "
   ]
  },
  {
   "cell_type": "code",
   "execution_count": 5,
   "metadata": {},
   "outputs": [],
   "source": [
    "allSubjects = requests.get(baseURL + \"/api/subjects\").text"
   ]
  },
  {
   "cell_type": "code",
   "execution_count": 7,
   "metadata": {},
   "outputs": [],
   "source": [
    "subjects = json.loads(allSubjects)"
   ]
  },
  {
   "cell_type": "markdown",
   "metadata": {},
   "source": [
    "List the 15 most common subjects. "
   ]
  },
  {
   "cell_type": "code",
   "execution_count": 11,
   "metadata": {},
   "outputs": [
    {
     "data": {
      "text/plain": [
       "[['Fiction', 1920],\n",
       " ['Short stories', 1581],\n",
       " ['Science fiction', 1283],\n",
       " ['Adventure stories', 766],\n",
       " ['Historical fiction', 634],\n",
       " ['Poetry', 633],\n",
       " ['Love stories', 619],\n",
       " [', ', 557],\n",
       " ['English wit and humor -- Periodicals', 555],\n",
       " ['Conduct of life -- Juvenile fiction', 554],\n",
       " ['Detective and mystery stories', 537],\n",
       " ['Western stories', 432],\n",
       " ['Man-woman relationships -- Fiction', 389],\n",
       " ['England -- Fiction', 309],\n",
       " ['Friendship -- Juvenile fiction', 307]]"
      ]
     },
     "execution_count": 11,
     "metadata": {},
     "output_type": "execute_result"
    }
   ],
   "source": [
    "subjects[:15]"
   ]
  },
  {
   "cell_type": "markdown",
   "metadata": {},
   "source": [
    "Let's compare \"detective and mystery stories\" with general fiction. First, get metadata for all the detective stories, and all the general fiction. "
   ]
  },
  {
   "cell_type": "code",
   "execution_count": 12,
   "metadata": {},
   "outputs": [],
   "source": [
    "detectiveMeta = json.loads(requests.get(baseURL + \"/api/subject/Detective and mystery stories\").text)"
   ]
  },
  {
   "cell_type": "code",
   "execution_count": 16,
   "metadata": {},
   "outputs": [],
   "source": [
    "fictionMeta = json.loads(requests.get(baseURL + \"/api/subject/Fiction\").text)"
   ]
  },
  {
   "cell_type": "markdown",
   "metadata": {},
   "source": [
    "Now let's narrow by Library of Congress category, to make sure that we're only dealing with British novels. "
   ]
  },
  {
   "cell_type": "code",
   "execution_count": 31,
   "metadata": {},
   "outputs": [],
   "source": [
    "britishFictionMeta = [item for item in fictionMeta if 'PR' in item['LCC']]\n",
    "britishDetectiveMeta = [item for item in detectiveMeta if 'PR' in item['LCC']]"
   ]
  },
  {
   "cell_type": "markdown",
   "metadata": {},
   "source": [
    "Let's take a look. Grab a sample of 10 random works from each. "
   ]
  },
  {
   "cell_type": "code",
   "execution_count": 41,
   "metadata": {},
   "outputs": [],
   "source": [
    "detectiveMetaSample = pd.DataFrame(\n",
    "    [(item['id'], item['author'], item['title']) \n",
    "     for item in random.sample(britishDetectiveMeta, 10)])"
   ]
  },
  {
   "cell_type": "code",
   "execution_count": 42,
   "metadata": {},
   "outputs": [
    {
     "data": {
      "text/html": [
       "<div>\n",
       "<style>\n",
       "    .dataframe thead tr:only-child th {\n",
       "        text-align: right;\n",
       "    }\n",
       "\n",
       "    .dataframe thead th {\n",
       "        text-align: left;\n",
       "    }\n",
       "\n",
       "    .dataframe tbody tr th {\n",
       "        vertical-align: top;\n",
       "    }\n",
       "</style>\n",
       "<table border=\"1\" class=\"dataframe\">\n",
       "  <thead>\n",
       "    <tr style=\"text-align: right;\">\n",
       "      <th></th>\n",
       "      <th>0</th>\n",
       "      <th>1</th>\n",
       "      <th>2</th>\n",
       "    </tr>\n",
       "  </thead>\n",
       "  <tbody>\n",
       "    <tr>\n",
       "      <th>0</th>\n",
       "      <td>17040.0</td>\n",
       "      <td>Oppenheim, E. Phillips (Edward Phillips)</td>\n",
       "      <td>The Survivor</td>\n",
       "    </tr>\n",
       "    <tr>\n",
       "      <th>1</th>\n",
       "      <td>37820.0</td>\n",
       "      <td>Morrison, Arthur</td>\n",
       "      <td>Chronicles of Martin Hewitt</td>\n",
       "    </tr>\n",
       "    <tr>\n",
       "      <th>2</th>\n",
       "      <td>5308.0</td>\n",
       "      <td>Fletcher, J. S. (Joseph Smith)</td>\n",
       "      <td>The Paradise Mystery</td>\n",
       "    </tr>\n",
       "    <tr>\n",
       "      <th>3</th>\n",
       "      <td>7687.0</td>\n",
       "      <td>Lytton, Edward Bulwer Lytton, Baron</td>\n",
       "      <td>Lucretia — Volume 03</td>\n",
       "    </tr>\n",
       "    <tr>\n",
       "      <th>4</th>\n",
       "      <td>26447.0</td>\n",
       "      <td>Tracy, Louis</td>\n",
       "      <td>The Strange Case of Mortimer Fenley</td>\n",
       "    </tr>\n",
       "    <tr>\n",
       "      <th>5</th>\n",
       "      <td>29173.0</td>\n",
       "      <td>Le Queux, William</td>\n",
       "      <td>The White Lie</td>\n",
       "    </tr>\n",
       "    <tr>\n",
       "      <th>6</th>\n",
       "      <td>244.0</td>\n",
       "      <td>Doyle, Arthur Conan</td>\n",
       "      <td>A Study in Scarlet</td>\n",
       "    </tr>\n",
       "    <tr>\n",
       "      <th>7</th>\n",
       "      <td>17063.0</td>\n",
       "      <td>Oppenheim, E. Phillips (Edward Phillips)</td>\n",
       "      <td>A Lost Leader</td>\n",
       "    </tr>\n",
       "    <tr>\n",
       "      <th>8</th>\n",
       "      <td>1872.0</td>\n",
       "      <td>Milne, A. A. (Alan Alexander)</td>\n",
       "      <td>The Red House Mystery</td>\n",
       "    </tr>\n",
       "    <tr>\n",
       "      <th>9</th>\n",
       "      <td>9808.0</td>\n",
       "      <td>Jepson, Edgar</td>\n",
       "      <td>The Loudwater Mystery</td>\n",
       "    </tr>\n",
       "  </tbody>\n",
       "</table>\n",
       "</div>"
      ],
      "text/plain": [
       "         0                                         1  \\\n",
       "0  17040.0  Oppenheim, E. Phillips (Edward Phillips)   \n",
       "1  37820.0                          Morrison, Arthur   \n",
       "2   5308.0            Fletcher, J. S. (Joseph Smith)   \n",
       "3   7687.0       Lytton, Edward Bulwer Lytton, Baron   \n",
       "4  26447.0                              Tracy, Louis   \n",
       "5  29173.0                         Le Queux, William   \n",
       "6    244.0                       Doyle, Arthur Conan   \n",
       "7  17063.0  Oppenheim, E. Phillips (Edward Phillips)   \n",
       "8   1872.0             Milne, A. A. (Alan Alexander)   \n",
       "9   9808.0                             Jepson, Edgar   \n",
       "\n",
       "                                     2  \n",
       "0                         The Survivor  \n",
       "1          Chronicles of Martin Hewitt  \n",
       "2                 The Paradise Mystery  \n",
       "3                 Lucretia — Volume 03  \n",
       "4  The Strange Case of Mortimer Fenley  \n",
       "5                        The White Lie  \n",
       "6                   A Study in Scarlet  \n",
       "7                        A Lost Leader  \n",
       "8                The Red House Mystery  \n",
       "9                The Loudwater Mystery  "
      ]
     },
     "execution_count": 42,
     "metadata": {},
     "output_type": "execute_result"
    }
   ],
   "source": [
    "detectiveMetaSample"
   ]
  },
  {
   "cell_type": "code",
   "execution_count": 106,
   "metadata": {},
   "outputs": [],
   "source": [
    "fictionMetaSample = pd.DataFrame(\n",
    "    [(item['id'], item['author'], item['title']) \n",
    "     for item in random.sample(britishFictionMeta, 10)])"
   ]
  },
  {
   "cell_type": "code",
   "execution_count": 107,
   "metadata": {},
   "outputs": [
    {
     "data": {
      "text/html": [
       "<div>\n",
       "<style>\n",
       "    .dataframe thead tr:only-child th {\n",
       "        text-align: right;\n",
       "    }\n",
       "\n",
       "    .dataframe thead th {\n",
       "        text-align: left;\n",
       "    }\n",
       "\n",
       "    .dataframe tbody tr th {\n",
       "        vertical-align: top;\n",
       "    }\n",
       "</style>\n",
       "<table border=\"1\" class=\"dataframe\">\n",
       "  <thead>\n",
       "    <tr style=\"text-align: right;\">\n",
       "      <th></th>\n",
       "      <th>0</th>\n",
       "      <th>1</th>\n",
       "      <th>2</th>\n",
       "    </tr>\n",
       "  </thead>\n",
       "  <tbody>\n",
       "    <tr>\n",
       "      <th>0</th>\n",
       "      <td>2126.0</td>\n",
       "      <td>Rohmer, Sax</td>\n",
       "      <td>The Quest of the Sacred Slipper</td>\n",
       "    </tr>\n",
       "    <tr>\n",
       "      <th>1</th>\n",
       "      <td>43529.0</td>\n",
       "      <td>Fenwick, E. (Eliza)</td>\n",
       "      <td>Secresy; or, Ruin on the Rock</td>\n",
       "    </tr>\n",
       "    <tr>\n",
       "      <th>2</th>\n",
       "      <td>42324.0</td>\n",
       "      <td>Shelley, Mary Wollstonecraft</td>\n",
       "      <td>Frankenstein; Or, The Modern Prometheus</td>\n",
       "    </tr>\n",
       "    <tr>\n",
       "      <th>3</th>\n",
       "      <td>2525.0</td>\n",
       "      <td>Jerome, Jerome K. (Jerome Klapka)</td>\n",
       "      <td>John Ingerfield, and Other Stories</td>\n",
       "    </tr>\n",
       "    <tr>\n",
       "      <th>4</th>\n",
       "      <td>1918.0</td>\n",
       "      <td>Haggard, H. Rider (Henry Rider)</td>\n",
       "      <td>Long Odds</td>\n",
       "    </tr>\n",
       "    <tr>\n",
       "      <th>5</th>\n",
       "      <td>40333.0</td>\n",
       "      <td>Cleland, Robert</td>\n",
       "      <td>A Rich Man's Relatives (Vol. 3 of 3)</td>\n",
       "    </tr>\n",
       "    <tr>\n",
       "      <th>6</th>\n",
       "      <td>10318.0</td>\n",
       "      <td>Godwin, William</td>\n",
       "      <td>Damon and Delia: A Tale</td>\n",
       "    </tr>\n",
       "    <tr>\n",
       "      <th>7</th>\n",
       "      <td>12398.0</td>\n",
       "      <td>Richardson, Samuel</td>\n",
       "      <td>Clarissa Harlowe; or the history of a young la...</td>\n",
       "    </tr>\n",
       "    <tr>\n",
       "      <th>8</th>\n",
       "      <td>46467.0</td>\n",
       "      <td>Blackmore, R. D. (Richard Doddridge)</td>\n",
       "      <td>The Remarkable History of Sir Thomas Upmore, b...</td>\n",
       "    </tr>\n",
       "    <tr>\n",
       "      <th>9</th>\n",
       "      <td>5795.0</td>\n",
       "      <td>Yeats, W. B. (William Butler)</td>\n",
       "      <td>The Secret Rose</td>\n",
       "    </tr>\n",
       "  </tbody>\n",
       "</table>\n",
       "</div>"
      ],
      "text/plain": [
       "         0                                     1  \\\n",
       "0   2126.0                           Rohmer, Sax   \n",
       "1  43529.0                   Fenwick, E. (Eliza)   \n",
       "2  42324.0          Shelley, Mary Wollstonecraft   \n",
       "3   2525.0     Jerome, Jerome K. (Jerome Klapka)   \n",
       "4   1918.0       Haggard, H. Rider (Henry Rider)   \n",
       "5  40333.0                       Cleland, Robert   \n",
       "6  10318.0                       Godwin, William   \n",
       "7  12398.0                    Richardson, Samuel   \n",
       "8  46467.0  Blackmore, R. D. (Richard Doddridge)   \n",
       "9   5795.0         Yeats, W. B. (William Butler)   \n",
       "\n",
       "                                                   2  \n",
       "0                    The Quest of the Sacred Slipper  \n",
       "1                      Secresy; or, Ruin on the Rock  \n",
       "2            Frankenstein; Or, The Modern Prometheus  \n",
       "3                 John Ingerfield, and Other Stories  \n",
       "4                                          Long Odds  \n",
       "5               A Rich Man's Relatives (Vol. 3 of 3)  \n",
       "6                            Damon and Delia: A Tale  \n",
       "7  Clarissa Harlowe; or the history of a young la...  \n",
       "8  The Remarkable History of Sir Thomas Upmore, b...  \n",
       "9                                    The Secret Rose  "
      ]
     },
     "execution_count": 107,
     "metadata": {},
     "output_type": "execute_result"
    }
   ],
   "source": [
    "fictionMetaSample"
   ]
  },
  {
   "cell_type": "markdown",
   "metadata": {},
   "source": [
    "Not terrible."
   ]
  },
  {
   "cell_type": "code",
   "execution_count": 108,
   "metadata": {},
   "outputs": [],
   "source": [
    "def getFulltext(bookID): \n",
    "    return json.loads(requests.get(baseURL + '/api/id/' + bookID + '/fulltext').text)"
   ]
  },
  {
   "cell_type": "code",
   "execution_count": 87,
   "metadata": {},
   "outputs": [],
   "source": [
    "detectiveFulltexts = [getFulltext(bookID) for bookID in detectiveMetaSample[0]] "
   ]
  },
  {
   "cell_type": "code",
   "execution_count": 109,
   "metadata": {},
   "outputs": [],
   "source": [
    "fictionFulltexts = [getFulltext(bookID) for bookID in fictionMetaSample[0]]   "
   ]
  },
  {
   "cell_type": "code",
   "execution_count": 92,
   "metadata": {},
   "outputs": [],
   "source": [
    "detectiveTexts = [text[0]['text'] for text in detectiveFulltexts]"
   ]
  },
  {
   "cell_type": "code",
   "execution_count": 110,
   "metadata": {},
   "outputs": [],
   "source": [
    "fictionTexts = [text[0]['text'] for text in fictionFulltexts]"
   ]
  },
  {
   "cell_type": "code",
   "execution_count": 113,
   "metadata": {},
   "outputs": [],
   "source": [
    "tfidf = TfidfVectorizer()"
   ]
  },
  {
   "cell_type": "code",
   "execution_count": null,
   "metadata": {},
   "outputs": [],
   "source": []
  }
 ],
 "metadata": {
  "kernelspec": {
   "display_name": "Python 3",
   "language": "python",
   "name": "python3"
  },
  "language_info": {
   "codemirror_mode": {
    "name": "ipython",
    "version": 3
   },
   "file_extension": ".py",
   "mimetype": "text/x-python",
   "name": "python",
   "nbconvert_exporter": "python",
   "pygments_lexer": "ipython3",
   "version": "3.6.5"
  }
 },
 "nbformat": 4,
 "nbformat_minor": 2
}
